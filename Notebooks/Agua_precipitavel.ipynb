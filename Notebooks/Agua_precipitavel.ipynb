{
 "cells": [
  {
   "cell_type": "markdown",
   "id": "309d8b64-6576-49c6-a1ca-52f4c969821d",
   "metadata": {},
   "source": [
    "# Exercício - Água precipitável\n",
    "Calcule a água precipitável em uma coluna de ar saturada a 10km acima de 1m² de superfície. A pressão na superfície é de 101.3kPa, a temperatura é de 30°C e o gradiente adiabático 6.5°C/km. Use Δz = 2km. "
   ]
  },
  {
   "cell_type": "code",
   "execution_count": 1,
   "id": "0e17cf6d-273a-4760-9208-cb7cfcbd86b6",
   "metadata": {},
   "outputs": [],
   "source": [
    "import numpy as np\n",
    "import pandas as pd "
   ]
  },
  {
   "cell_type": "code",
   "execution_count": 2,
   "id": "788f62bc-545f-4d78-8254-d2f0712a72f3",
   "metadata": {},
   "outputs": [],
   "source": [
    "# Dados de entrada\n",
    "T1 = 30+273.15 # K\n",
    "alpha = 6.5/1000 # K/m \n",
    "p1 = 101300 # Pa\n",
    "deltaZ = 2000 # m\n",
    "altura = 10000 # m\n",
    "area = 1 "
   ]
  },
  {
   "cell_type": "code",
   "execution_count": 3,
   "id": "b2b4271b-2571-4703-a846-59844a9f824d",
   "metadata": {},
   "outputs": [],
   "source": [
    "# Funcao para calcular a massa de agua precipitavel em cada camada \n",
    "def AguaPrec(T1, alpha, p1, deltaZ, altura, area):\n",
    "    Ra = 287 # J/kg*K\n",
    "    g = 9.81 # m/s^2\n",
    "    es1 = 611*np.exp((17.27*(T1-273.15))/(237.3+(T1-273.15)))\n",
    "    qv1 = 0.622*es1/p1\n",
    "    rho1 = p1/(Ra*T1) \n",
    "    dict = {\n",
    "        'Temperatura (K)':[T1],\n",
    "        'Pressão (Pa)':[p1],\n",
    "        'Pressão de saturação (Pa)':[es1],\n",
    "        'Umidade específica':[qv1],\n",
    "        'Densidade do ar (kg/m³)':[rho1],\n",
    "        'Água precipitável (kg)':[0] \n",
    "           } \n",
    "    for i in range(int(altura/deltaZ)):\n",
    "        T2 = T1 - (alpha*deltaZ)\n",
    "        p2 = p1*((T2/T1)**(g/(alpha*Ra)))\n",
    "        es2 = 611*np.exp((17.27*(T2-273.15))/(237.3+(T2-273.15)))\n",
    "        qv2 = 0.622*es2/p2\n",
    "        rho2 = p2/(Ra*T2)\n",
    "        qv, rho = (qv1+qv2)/2, (rho1+rho2)/2\n",
    "        agua = qv*rho*area*deltaZ\n",
    "        dict['Temperatura (K)'].append(T2)\n",
    "        dict['Pressão (Pa)'].append(p2)\n",
    "        dict['Pressão de saturação (Pa)'].append(es2)\n",
    "        dict['Umidade específica'].append(qv2)\n",
    "        dict['Densidade do ar (kg/m³)'].append(rho2)\n",
    "        dict['Água precipitável (kg)'].append(agua)\n",
    "        T1, p1, es1, qv1, rho1 = T2, p2, es2, qv2, rho2\n",
    "    return dict     "
   ]
  },
  {
   "cell_type": "code",
   "execution_count": 4,
   "id": "4b42b200-832b-4be1-aba1-a0226d3fcb00",
   "metadata": {},
   "outputs": [
    {
     "name": "stdout",
     "output_type": "stream",
     "text": [
      "Água precipitável =  76.9958 mm\n",
      "\n"
     ]
    },
    {
     "data": {
      "text/html": [
       "<div>\n",
       "<style scoped>\n",
       "    .dataframe tbody tr th:only-of-type {\n",
       "        vertical-align: middle;\n",
       "    }\n",
       "\n",
       "    .dataframe tbody tr th {\n",
       "        vertical-align: top;\n",
       "    }\n",
       "\n",
       "    .dataframe thead th {\n",
       "        text-align: right;\n",
       "    }\n",
       "</style>\n",
       "<table border=\"1\" class=\"dataframe\">\n",
       "  <thead>\n",
       "    <tr style=\"text-align: right;\">\n",
       "      <th></th>\n",
       "      <th>Temperatura (K)</th>\n",
       "      <th>Pressão (Pa)</th>\n",
       "      <th>Pressão de saturação (Pa)</th>\n",
       "      <th>Umidade específica</th>\n",
       "      <th>Densidade do ar (kg/m³)</th>\n",
       "      <th>Água precipitável (kg)</th>\n",
       "    </tr>\n",
       "  </thead>\n",
       "  <tbody>\n",
       "    <tr>\n",
       "      <th>0</th>\n",
       "      <td>303.15</td>\n",
       "      <td>101300.000000</td>\n",
       "      <td>4244.454406</td>\n",
       "      <td>0.026062</td>\n",
       "      <td>1.164314</td>\n",
       "      <td>0.000000</td>\n",
       "    </tr>\n",
       "    <tr>\n",
       "      <th>1</th>\n",
       "      <td>290.15</td>\n",
       "      <td>80447.244472</td>\n",
       "      <td>1938.363841</td>\n",
       "      <td>0.014987</td>\n",
       "      <td>0.966066</td>\n",
       "      <td>43.724650</td>\n",
       "    </tr>\n",
       "    <tr>\n",
       "      <th>2</th>\n",
       "      <td>277.15</td>\n",
       "      <td>63215.519619</td>\n",
       "      <td>813.527390</td>\n",
       "      <td>0.008005</td>\n",
       "      <td>0.794743</td>\n",
       "      <td>20.241892</td>\n",
       "    </tr>\n",
       "    <tr>\n",
       "      <th>3</th>\n",
       "      <td>264.15</td>\n",
       "      <td>49102.766244</td>\n",
       "      <td>309.290895</td>\n",
       "      <td>0.003918</td>\n",
       "      <td>0.647699</td>\n",
       "      <td>8.598740</td>\n",
       "    </tr>\n",
       "    <tr>\n",
       "      <th>4</th>\n",
       "      <td>251.15</td>\n",
       "      <td>37657.370266</td>\n",
       "      <td>104.626466</td>\n",
       "      <td>0.001728</td>\n",
       "      <td>0.522438</td>\n",
       "      <td>3.303319</td>\n",
       "    </tr>\n",
       "    <tr>\n",
       "      <th>5</th>\n",
       "      <td>238.15</td>\n",
       "      <td>28475.203399</td>\n",
       "      <td>30.790546</td>\n",
       "      <td>0.000673</td>\n",
       "      <td>0.416614</td>\n",
       "      <td>1.127205</td>\n",
       "    </tr>\n",
       "  </tbody>\n",
       "</table>\n",
       "</div>"
      ],
      "text/plain": [
       "   Temperatura (K)   Pressão (Pa)  Pressão de saturação (Pa)  \\\n",
       "0           303.15  101300.000000                4244.454406   \n",
       "1           290.15   80447.244472                1938.363841   \n",
       "2           277.15   63215.519619                 813.527390   \n",
       "3           264.15   49102.766244                 309.290895   \n",
       "4           251.15   37657.370266                 104.626466   \n",
       "5           238.15   28475.203399                  30.790546   \n",
       "\n",
       "   Umidade específica  Densidade do ar (kg/m³)  Água precipitável (kg)  \n",
       "0            0.026062                 1.164314                0.000000  \n",
       "1            0.014987                 0.966066               43.724650  \n",
       "2            0.008005                 0.794743               20.241892  \n",
       "3            0.003918                 0.647699                8.598740  \n",
       "4            0.001728                 0.522438                3.303319  \n",
       "5            0.000673                 0.416614                1.127205  "
      ]
     },
     "execution_count": 4,
     "metadata": {},
     "output_type": "execute_result"
    }
   ],
   "source": [
    "resultados = pd.DataFrame(data=AguaPrec(T1, alpha, p1, deltaZ, altura, area)) \n",
    "print('Água precipitável = ', round(resultados['Água precipitável (kg)'].sum(), 4), 'mm\\n')\n",
    "resultados  "
   ]
  },
  {
   "cell_type": "markdown",
   "id": "d699f9dd-690c-4a8c-a77b-6af73c7ceaa9",
   "metadata": {},
   "source": [
    "## Mudando os dados de entrada"
   ]
  },
  {
   "cell_type": "code",
   "execution_count": 5,
   "id": "114a8260-6d70-4924-b35c-d2e0e4348d14",
   "metadata": {},
   "outputs": [
    {
     "name": "stdout",
     "output_type": "stream",
     "text": [
      "Água precipitável =  76.0289 mm\n",
      "\n"
     ]
    }
   ],
   "source": [
    "deltaZ = 1000\n",
    "resultados1 = pd.DataFrame(data=AguaPrec(T1, alpha, p1, deltaZ, altura, area)) \n",
    "print('Água precipitável = ', round(resultados1['Água precipitável (kg)'].sum(), 4), 'mm\\n')   "
   ]
  },
  {
   "cell_type": "code",
   "execution_count": 6,
   "id": "a89bf822-445e-42b7-9458-7faca76de011",
   "metadata": {},
   "outputs": [
    {
     "name": "stdout",
     "output_type": "stream",
     "text": [
      "Água precipitável =  75.709 mm\n",
      "\n"
     ]
    }
   ],
   "source": [
    "deltaZ = 100\n",
    "resultados2 = pd.DataFrame(data=AguaPrec(T1, alpha, p1, deltaZ, altura, area)) \n",
    "print('Água precipitável = ', round(resultados2['Água precipitável (kg)'].sum(), 4), 'mm\\n')"
   ]
  },
  {
   "cell_type": "code",
   "execution_count": 7,
   "id": "d3687662-9d13-4033-a43d-5cbb13ba3c81",
   "metadata": {},
   "outputs": [],
   "source": [
    "# Salvar arquivo\n",
    "with pd.ExcelWriter('Agua_precipitavel.xlsx') as writer:\n",
    "    resultados.to_excel(writer, sheet_name='2000') \n",
    "    resultados1.to_excel(writer, sheet_name='1000')\n",
    "    resultados2.to_excel(writer, sheet_name='100') "
   ]
  }
 ],
 "metadata": {
  "kernelspec": {
   "display_name": "Python 3 (ipykernel)",
   "language": "python",
   "name": "python3"
  },
  "language_info": {
   "codemirror_mode": {
    "name": "ipython",
    "version": 3
   },
   "file_extension": ".py",
   "mimetype": "text/x-python",
   "name": "python",
   "nbconvert_exporter": "python",
   "pygments_lexer": "ipython3",
   "version": "3.11.9"
  }
 },
 "nbformat": 4,
 "nbformat_minor": 5
}
