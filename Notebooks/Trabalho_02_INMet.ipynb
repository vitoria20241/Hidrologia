{
 "cells": [
  {
   "cell_type": "markdown",
   "id": "b4b4208d-f05e-48c9-903c-1adc6eef7011",
   "metadata": {},
   "source": [
    "# Dados históricos - INMet\n",
    "Estação de Porto Alegre (cód. A801) "
   ]
  },
  {
   "cell_type": "code",
   "execution_count": 1,
   "id": "1a41d2cf-897c-44a5-9317-b7eda4b71c2b",
   "metadata": {},
   "outputs": [],
   "source": [
    "import pandas as pd\n",
    "import matplotlib.pyplot as plt\n",
    "from datetime import datetime, timedelta"
   ]
  },
  {
   "cell_type": "code",
   "execution_count": 2,
   "id": "c08826d6-3e55-4145-ac9e-0b7bff51babc",
   "metadata": {},
   "outputs": [],
   "source": [
    "# Função para reorganizar os dados\n",
    "# Retorna precipitação acumulada diária\n",
    "def reorganiza(file):\n",
    "    file = pd.read_excel(file)    \n",
    "    data_inicial = file['DATA (YYYY-MM-DD)'].min()\n",
    "    data_final = file['DATA (YYYY-MM-DD)'].max() + timedelta(hours=24)\n",
    "    file = pd.DataFrame(file).astype(str)\n",
    "    file = file.replace({',': '.'}, regex=True)\n",
    "    file = file.iloc[::, 2:].astype(float)\n",
    "    index = pd.date_range(start=data_inicial, end=data_final, freq='h')\n",
    "    index = [data.strftime('%Y-%m-%d %H:%M:%S') for data in index]\n",
    "    del index[-1]\n",
    "    file['index'] = [datetime.strptime(data,\n",
    "                                       '%Y-%m-%d %H:%M:%S') for data in index] \n",
    "    file = file.set_index('index')\n",
    "    file = file.drop(file.iloc[::,1:], axis='columns')\n",
    "    file = file.replace(-9999, float('NaN'))\n",
    "    file = file.resample('d').sum()\n",
    "    return file "
   ]
  },
  {
   "cell_type": "code",
   "execution_count": 3,
   "id": "45f277f9-bdc8-4d27-8c3a-78f8e851b0f6",
   "metadata": {},
   "outputs": [
    {
     "data": {
      "text/html": [
       "<div>\n",
       "<style scoped>\n",
       "    .dataframe tbody tr th:only-of-type {\n",
       "        vertical-align: middle;\n",
       "    }\n",
       "\n",
       "    .dataframe tbody tr th {\n",
       "        vertical-align: top;\n",
       "    }\n",
       "\n",
       "    .dataframe thead th {\n",
       "        text-align: right;\n",
       "    }\n",
       "</style>\n",
       "<table border=\"1\" class=\"dataframe\">\n",
       "  <thead>\n",
       "    <tr style=\"text-align: right;\">\n",
       "      <th></th>\n",
       "      <th>PRECIPITAÇÃO TOTAL, HORÁRIO (mm)</th>\n",
       "    </tr>\n",
       "    <tr>\n",
       "      <th>index</th>\n",
       "      <th></th>\n",
       "    </tr>\n",
       "  </thead>\n",
       "  <tbody>\n",
       "    <tr>\n",
       "      <th>2000-09-22</th>\n",
       "      <td>0.0</td>\n",
       "    </tr>\n",
       "    <tr>\n",
       "      <th>2000-09-23</th>\n",
       "      <td>28.0</td>\n",
       "    </tr>\n",
       "    <tr>\n",
       "      <th>2000-09-24</th>\n",
       "      <td>23.8</td>\n",
       "    </tr>\n",
       "    <tr>\n",
       "      <th>2000-09-25</th>\n",
       "      <td>0.0</td>\n",
       "    </tr>\n",
       "    <tr>\n",
       "      <th>2000-09-26</th>\n",
       "      <td>0.0</td>\n",
       "    </tr>\n",
       "    <tr>\n",
       "      <th>...</th>\n",
       "      <td>...</td>\n",
       "    </tr>\n",
       "    <tr>\n",
       "      <th>2015-12-27</th>\n",
       "      <td>0.0</td>\n",
       "    </tr>\n",
       "    <tr>\n",
       "      <th>2015-12-28</th>\n",
       "      <td>0.0</td>\n",
       "    </tr>\n",
       "    <tr>\n",
       "      <th>2015-12-29</th>\n",
       "      <td>0.0</td>\n",
       "    </tr>\n",
       "    <tr>\n",
       "      <th>2015-12-30</th>\n",
       "      <td>1.6</td>\n",
       "    </tr>\n",
       "    <tr>\n",
       "      <th>2015-12-31</th>\n",
       "      <td>3.4</td>\n",
       "    </tr>\n",
       "  </tbody>\n",
       "</table>\n",
       "<p>5579 rows × 1 columns</p>\n",
       "</div>"
      ],
      "text/plain": [
       "            PRECIPITAÇÃO TOTAL, HORÁRIO (mm)\n",
       "index                                       \n",
       "2000-09-22                               0.0\n",
       "2000-09-23                              28.0\n",
       "2000-09-24                              23.8\n",
       "2000-09-25                               0.0\n",
       "2000-09-26                               0.0\n",
       "...                                      ...\n",
       "2015-12-27                               0.0\n",
       "2015-12-28                               0.0\n",
       "2015-12-29                               0.0\n",
       "2015-12-30                               1.6\n",
       "2015-12-31                               3.4\n",
       "\n",
       "[5579 rows x 1 columns]"
      ]
     },
     "execution_count": 3,
     "metadata": {},
     "output_type": "execute_result"
    }
   ],
   "source": [
    "# Ler o arquivo de cada ano e concatenar em um unico dataframe \n",
    "path = \"C:\\\\ENS\\\\Hidrologia\\\\Dados_INMet\"\n",
    "dados = pd.DataFrame() \n",
    "\n",
    "for i in range(2000, 2016):\n",
    "    file = path + '\\\\' + str(i) + '.xlsx'\n",
    "    aux = reorganiza(file)\n",
    "    dados = pd.concat([dados, aux])\n",
    "dados "
   ]
  },
  {
   "cell_type": "code",
   "execution_count": 4,
   "id": "ea898f1f-5c85-48f6-8645-338aa921a9cc",
   "metadata": {},
   "outputs": [
    {
     "data": {
      "image/png": "[encoded data removed]",
      "text/plain": [
       "<Figure size 640x480 with 1 Axes>"
      ]
     },
     "metadata": {},
     "output_type": "display_data"
    }
   ],
   "source": [
    "dados['PRECIPITAÇÃO TOTAL, HORÁRIO (mm)'].plot() \n",
    "dados.to_excel(path+'\\\\dados.xlsx')"
   ]
  }
 ],
 "metadata": {
  "kernelspec": {
   "display_name": "Python 3 (ipykernel)",
   "language": "python",
   "name": "python3"
  },
  "language_info": {
   "codemirror_mode": {
    "name": "ipython",
    "version": 3
   },
   "file_extension": ".py",
   "mimetype": "text/x-python",
   "name": "python",
   "nbconvert_exporter": "python",
   "pygments_lexer": "ipython3",
   "version": "3.11.8"
  }
 },
 "nbformat": 4,
 "nbformat_minor": 5
}
