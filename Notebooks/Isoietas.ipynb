{
 "cells": [
  {
   "cell_type": "markdown",
   "id": "2b8a3d84-6ff4-435e-8de5-59db9fb2dbff",
   "metadata": {},
   "source": [
    "A função abaixo calcula a distância a partir do ponto de menor precipitação. O dados de entrada são:\n",
    "- Precitação maior (M);\n",
    "- Precipitação menor (m);\n",
    "- Distância total entre M e m (D);\n",
    "- Precipitação onde se deseja calcular a distância (p). "
   ]
  },
  {
   "cell_type": "code",
   "execution_count": 1,
   "id": "70b53eb1-2b83-4878-bec6-389e331311a0",
   "metadata": {},
   "outputs": [],
   "source": [
    "def isoietas(M, m, D, p):\n",
    "    d = ((p-m)*D)/(M-m)\n",
    "    return d"
   ]
  },
  {
   "cell_type": "code",
   "execution_count": 37,
   "id": "55b8d9f1-4c7b-4a41-9421-4bd46f4bd195",
   "metadata": {},
   "outputs": [
    {
     "data": {
      "text/plain": [
       "9.203124999999996"
      ]
     },
     "execution_count": 37,
     "metadata": {},
     "output_type": "execute_result"
    }
   ],
   "source": [
    "M = 20.1\n",
    "m = 16.9\n",
    "D = 9.5\n",
    "p = 20\n",
    "\n",
    "isoietas(M, m, D, p)"
   ]
  }
 ],
 "metadata": {
  "kernelspec": {
   "display_name": "Python 3 (ipykernel)",
   "language": "python",
   "name": "python3"
  },
  "language_info": {
   "codemirror_mode": {
    "name": "ipython",
    "version": 3
   },
   "file_extension": ".py",
   "mimetype": "text/x-python",
   "name": "python",
   "nbconvert_exporter": "python",
   "pygments_lexer": "ipython3",
   "version": "3.11.9"
  }
 },
 "nbformat": 4,
 "nbformat_minor": 5
}
